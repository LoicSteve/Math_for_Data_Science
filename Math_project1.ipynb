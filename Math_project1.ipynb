{
 "cells": [
  {
   "cell_type": "code",
   "execution_count": 8,
   "id": "10342510",
   "metadata": {},
   "outputs": [],
   "source": [
    "#To find out if a matrice is diagonalizable; the first thing to do is to check wether this matrix is a square matrices meaning matrix of n*n and in python we are doing that by using this condition: if matrix.shape[0] != matrix.shape[1] if it return false that means the matrix is not a square matrix; otherwise it is a square matrix, and then when the matrix respects this condition,\n",
    "#we have to find the eigen values but determining the characteristic polynim by substracting X to the value situated in the diagonal and then computing the determinant of this new matrix obtaint by substraction the X to the value situated in the diagonal; but in python there are libraries numpy and scipy which handle that, so after computing the determinant of this new matrix, we solve the linear equation obtaining by computing the determinant meaning det(M-IX)=0\n",
    "#After that we have to find eighen vectors based on the eigen values we found from the eqaution mentionned above, and there are also the same previous libraries are used to do so; but to do so we take each eighen value and then, we found the kernel of the MX-valiX; vali standing for each eigen value.\n",
    "#Then after doing that based on the vectors found, we can easly check weither the matrix M is diagonalizable; meaning if the number of eigen vectors is equal to the dimension of the matrix, we conclude that the matrix is diaginalizable if the number of eigen vectors is less than the dimansion of the matix , we conclude that the matrix is not diagonalizable.\n",
    "#Now in case the "
   ]
  },
  {
   "cell_type": "code",
   "execution_count": 8,
   "id": "b0d8f5c3",
   "metadata": {},
   "outputs": [],
   "source": [
    "import numpy as np\n",
    "import pandas as pd\n",
    "#import seaborn as sns\n",
    "import scipy.linalg as la\n",
    "\n",
    "def is_diagonalizable(matrix):\n",
    "    # Check if matrix is square\n",
    "    if matrix.shape[0] != matrix.shape[1]:\n",
    "        print(\"Error: Matrix is not square\")\n",
    "        return False\n",
    "    \n",
    "    # Find eigenvalues and eigenvectors\n",
    "    eigenvalues, eigenvectors = np.linalg.eig(matrix)\n",
    "    \n",
    "    # Check if there are enough linearly independent eigenvectors\n",
    "    if np.linalg.matrix_rank(eigenvectors) < matrix.shape[0]:\n",
    "        print(\"Matrix is not diagonalizable\")\n",
    "        return False\n",
    "    \n",
    "    # Create diagonal matrix\n",
    "    diagonal_matrix = np.zeros(matrix.shape)\n",
    "    for i in range(matrix.shape[0]):\n",
    "        diagonal_matrix[i, i] = eigenvalues[i]\n",
    "    \n",
    "    # Calculate inverse of eigenvector matrix\n",
    "    eigenvector_inverse = np.linalg.inv(eigenvectors)\n",
    "    \n",
    "    # Calculate diagonalized matrix\n",
    "    diagonalized_matrix = eigenvectors @ diagonal_matrix @ eigenvector_inverse\n",
    "    \n",
    "    # Check if the diagonalized matrix is equal to the original matrix\n",
    "    if np.allclose(diagonalized_matrix, matrix):\n",
    "        print(\"Matrix is diagonalizable\")\n",
    "        print(\"Diagonal matrix:\")\n",
    "        print(diagonal_matrix)\n",
    "        return diagonal_matrix\n",
    "    else:\n",
    "        print(\"Matrix is not diagonalizable\")\n",
    "        return False\n"
   ]
  },
  {
   "cell_type": "code",
   "execution_count": 9,
   "id": "51d72132",
   "metadata": {},
   "outputs": [
    {
     "name": "stdout",
     "output_type": "stream",
     "text": [
      "Matrix is diagonalizable\n",
      "Diagonal matrix:\n",
      "[[ 1.61168440e+01  0.00000000e+00  0.00000000e+00]\n",
      " [ 0.00000000e+00 -1.11684397e+00  0.00000000e+00]\n",
      " [ 0.00000000e+00  0.00000000e+00 -1.30367773e-15]]\n"
     ]
    },
    {
     "data": {
      "text/plain": [
       "array([[ 1.61168440e+01,  0.00000000e+00,  0.00000000e+00],\n",
       "       [ 0.00000000e+00, -1.11684397e+00,  0.00000000e+00],\n",
       "       [ 0.00000000e+00,  0.00000000e+00, -1.30367773e-15]])"
      ]
     },
     "execution_count": 9,
     "metadata": {},
     "output_type": "execute_result"
    }
   ],
   "source": [
    "matrix = np.array([[1, 2, 3], [4, 5, 6], [7, 8, 9]])\n",
    "is_diagonalizable(matrix)\n"
   ]
  },
  {
   "cell_type": "code",
   "execution_count": null,
   "id": "b30a66ba",
   "metadata": {},
   "outputs": [],
   "source": [
    "Matrix is not diagonalizable\n",
    "False\n"
   ]
  },
  {
   "cell_type": "code",
   "execution_count": 5,
   "id": "ce7ae2df",
   "metadata": {},
   "outputs": [
    {
     "name": "stdout",
     "output_type": "stream",
     "text": [
      "Matrix is diagonalizable\n",
      "Diagonal matrix:\n",
      "[[ 3.  0.]\n",
      " [ 0. -1.]]\n"
     ]
    },
    {
     "data": {
      "text/plain": [
       "array([[ 3.,  0.],\n",
       "       [ 0., -1.]])"
      ]
     },
     "execution_count": 5,
     "metadata": {},
     "output_type": "execute_result"
    }
   ],
   "source": [
    "matrix = np.array([[1, 2], [2, 1]])\n",
    "is_diagonalizable(matrix)\n"
   ]
  },
  {
   "cell_type": "code",
   "execution_count": 6,
   "id": "5fd057ef",
   "metadata": {},
   "outputs": [
    {
     "ename": "SyntaxError",
     "evalue": "invalid syntax (2104626803.py, line 2)",
     "output_type": "error",
     "traceback": [
      "\u001b[0;36m  Cell \u001b[0;32mIn[6], line 2\u001b[0;36m\u001b[0m\n\u001b[0;31m    Diagonal matrix:\u001b[0m\n\u001b[0m             ^\u001b[0m\n\u001b[0;31mSyntaxError\u001b[0m\u001b[0;31m:\u001b[0m invalid syntax\n"
     ]
    }
   ],
   "source": [
    "Matrix is diagonalizable\n",
    "Diagonal matrix:\n",
    "[[ 3. -0.]\n",
    " [-0. -1.]]\n",
    "array([[ 3., -0.],\n",
    "       [-0., -1.]])\n"
   ]
  },
  {
   "cell_type": "code",
   "execution_count": 10,
   "id": "d79d9ce0",
   "metadata": {},
   "outputs": [],
   "source": [
    "M = np.array([[5, 6, 9, 67, 98],[11, 62, 12, 67, 8], [3, 10, 1, 0, 22], [2, 3, 6, 7, 24], [19, 18, 9, 27, 1]])"
   ]
  },
  {
   "cell_type": "code",
   "execution_count": 12,
   "id": "73b9a638",
   "metadata": {},
   "outputs": [
    {
     "name": "stdout",
     "output_type": "stream",
     "text": [
      "Matrix is not diagonalizable\n"
     ]
    },
    {
     "name": "stderr",
     "output_type": "stream",
     "text": [
      "/var/folders/tl/vc1g_x553r9bfykwgkp22fr40000gn/T/ipykernel_95548/1531022610.py:20: ComplexWarning: Casting complex values to real discards the imaginary part\n",
      "  diagonal_matrix[i, i] = eigenvalues[i]\n"
     ]
    },
    {
     "data": {
      "text/plain": [
       "False"
      ]
     },
     "execution_count": 12,
     "metadata": {},
     "output_type": "execute_result"
    }
   ],
   "source": [
    "is_diagonalizable(M)"
   ]
  },
  {
   "cell_type": "code",
   "execution_count": 13,
   "id": "7f45770e",
   "metadata": {},
   "outputs": [],
   "source": [
    "M = np.array([[5, 6, 9, 67, 98],[1, 62, 12, 7, 8], [3, 10, 14, 22, 82], [2, 3, 6, 7, 67], [19, 18, 9, 27, 100]])"
   ]
  },
  {
   "cell_type": "code",
   "execution_count": 14,
   "id": "6146f5d3",
   "metadata": {},
   "outputs": [
    {
     "name": "stdout",
     "output_type": "stream",
     "text": [
      "Matrix is not diagonalizable\n"
     ]
    },
    {
     "name": "stderr",
     "output_type": "stream",
     "text": [
      "/var/folders/tl/vc1g_x553r9bfykwgkp22fr40000gn/T/ipykernel_95548/1531022610.py:20: ComplexWarning: Casting complex values to real discards the imaginary part\n",
      "  diagonal_matrix[i, i] = eigenvalues[i]\n"
     ]
    },
    {
     "data": {
      "text/plain": [
       "False"
      ]
     },
     "execution_count": 14,
     "metadata": {},
     "output_type": "execute_result"
    }
   ],
   "source": [
    "is_diagonalizable(M)"
   ]
  },
  {
   "cell_type": "code",
   "execution_count": 15,
   "id": "349ea2d1",
   "metadata": {},
   "outputs": [
    {
     "name": "stdout",
     "output_type": "stream",
     "text": [
      "Matrix is diagonalizable\n",
      "Diagonal matrix:\n",
      "[[ 3.44948974e+00  0.00000000e+00  0.00000000e+00  0.00000000e+00]\n",
      " [ 0.00000000e+00 -1.44948974e+00  0.00000000e+00  0.00000000e+00]\n",
      " [ 0.00000000e+00  0.00000000e+00 -1.00000000e+00  0.00000000e+00]\n",
      " [ 0.00000000e+00  0.00000000e+00  0.00000000e+00  1.32257656e-15]]\n"
     ]
    },
    {
     "data": {
      "text/plain": [
       "array([[ 3.44948974e+00,  0.00000000e+00,  0.00000000e+00,\n",
       "         0.00000000e+00],\n",
       "       [ 0.00000000e+00, -1.44948974e+00,  0.00000000e+00,\n",
       "         0.00000000e+00],\n",
       "       [ 0.00000000e+00,  0.00000000e+00, -1.00000000e+00,\n",
       "         0.00000000e+00],\n",
       "       [ 0.00000000e+00,  0.00000000e+00,  0.00000000e+00,\n",
       "         1.32257656e-15]])"
      ]
     },
     "execution_count": 15,
     "metadata": {},
     "output_type": "execute_result"
    }
   ],
   "source": [
    "ma = np.array([[1, 2, 1, 4], [2, 0, 1, 3], [-1, 1, 0, 0], [0, 1, -1, 0]])\n",
    "is_diagonalizable(ma)"
   ]
  },
  {
   "cell_type": "code",
   "execution_count": null,
   "id": "48bf2d0c",
   "metadata": {},
   "outputs": [],
   "source": []
  }
 ],
 "metadata": {
  "kernelspec": {
   "display_name": "Python 3 (ipykernel)",
   "language": "python",
   "name": "python3"
  },
  "language_info": {
   "codemirror_mode": {
    "name": "ipython",
    "version": 3
   },
   "file_extension": ".py",
   "mimetype": "text/x-python",
   "name": "python",
   "nbconvert_exporter": "python",
   "pygments_lexer": "ipython3",
   "version": "3.10.8"
  }
 },
 "nbformat": 4,
 "nbformat_minor": 5
}
